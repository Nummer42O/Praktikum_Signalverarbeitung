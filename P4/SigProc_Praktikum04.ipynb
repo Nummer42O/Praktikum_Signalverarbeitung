{
 "cells": [
  {
   "attachments": {},
   "cell_type": "markdown",
   "id": "79c0dcf9",
   "metadata": {},
   "source": [
    "# Signalverarbeitung - Praktikum 4\n",
    "\n",
    "[![Binder](https://mybinder.org/badge_logo.svg)](https://mybinder.org/v2/git/https%3A%2F%2Fgitlab.hrz.tu-chemnitz.de%2Fjs68viga--tu-freiberg.de%2Fsignalverarbeitung-ss23/HEAD?labpath=%2FP-4%2FSigProc_Praktikum04.ipynb)\n",
    "\n",
    "Herzlich willkommen zum vierten Praktikum der Lehrveranstaltung \"Signalverarbeitung\" im Sommersemester 2023!\n",
    "\n",
    "In diesem Praktikum geht es um die Anwendung der Kreuzkorrelation für die Signalanalyse. "
   ]
  },
  {
   "cell_type": "code",
   "execution_count": 1,
   "id": "674df93f",
   "metadata": {},
   "outputs": [],
   "source": [
    "import numpy as np\n",
    "import matplotlib.pyplot as plt\n",
    "import scipy as sp\n",
    "from scipy import signal\n"
   ]
  },
  {
   "attachments": {},
   "cell_type": "markdown",
   "id": "7dfb93dc",
   "metadata": {},
   "source": [
    "# Einleitung"
   ]
  },
  {
   "attachments": {},
   "cell_type": "markdown",
   "id": "7a96ab73",
   "metadata": {},
   "source": [
    "Bei messtechnischen Anwendungen besteht häufig die Aufgabe, den zeitlichen Abstand zwischen zwei Signalen zu bestimmen. Ein Beispiel ist die Messung der Dicke eines Bauteils mittels Ultraschall. Hierbei wird ein Ultraschallimpuls senkrecht zur Oberfläche in das Bauteil gesendet und die an der Rückwand reflektierten Wellen werden als Echo empfangen. Die zeitliche Differenz zwischen gesendetem und empfangenem Signal entspricht der Laufzeit der Schallwelle durch das Bauteil. Aus der Laufzeit lässt sich (bei bekannter Schallgeschwindigkeit) die Dicke des Bauteils ermitteln. Weitere Erläuterung zu dem Messverfahren finden sich z.B. [hier](https://wiki.tum.de/display/zfp/Schichtdickenmessung+mit+Ultraschall)."
   ]
  },
  {
   "attachments": {},
   "cell_type": "markdown",
   "id": "b6f5bf12",
   "metadata": {},
   "source": [
    "# Aufgabe\n",
    "Für eine Ultraschallmessung im Puls-Echo-Verfahren soll die Zeit zwischen gesendetem und empfangenem (reflektiertem) Signal bestimmt werden. Die unten gezeigte Messung ist gegeben. Zu Beginn ist das gesendete Signal zu sehen, mit einem zeitlichen Verzug ist das reflektierte Signal zu sehen. Die Abtastrate beträgt 1 MHz."
   ]
  },
  {
   "cell_type": "code",
   "execution_count": 2,
   "id": "066252b6",
   "metadata": {},
   "outputs": [
    {
     "data": {
      "image/png": "[encoded data removed]",
      "text/plain": [
       "<Figure size 432x288 with 1 Axes>"
      ]
     },
     "metadata": {
      "needs_background": "light"
     },
     "output_type": "display_data"
    }
   ],
   "source": [
    "s1 = np.genfromtxt(\"signal_1.csv\")\n",
    "plt.plot(s1)\n",
    "plt.title(\"Signal 1\")\n",
    "plt.show()\n"
   ]
  },
  {
   "attachments": {},
   "cell_type": "markdown",
   "id": "405671b3",
   "metadata": {},
   "source": [
    "a) Bestimmen Sie die Laufzeit des reflektierten Signals mittels Peak-Detection (vgl. Praktikum 1).\n",
    "\n",
    "b) Wenden Sie folgende Methoden zur Vorverarbeitung des Signals an und führen Sie anschließend die Peak-Detection durch um die Laufzeit zu ermitteln:\n",
    "- Berechnung der Hüllkurve mittels Hilbert-Transformation, vgl. [`scipy.signal.hilbert()`](https://docs.scipy.org/doc/scipy/reference/generated/scipy.signal.hilbert.html).\n",
    "- Kreuzkorrelation des Signals mit dem gesendeten Signal, vgl. [`numpy.correlate()`]().\n",
    "- Kreuzkorrelation des Signals mit dem gesendeten Signal und anschließende Berechnung der Hüllkurve.\n",
    "\n",
    "c) Bei dem gegebenen Signal handelt es sich um ein ideales, synthetisches Signal. In der Praxis sind Messsignale meist mit Störungen, wie z.B. Rauschen überlagert. Im Folgenden sollen die Methoden aus a) und b) hinsichtlich ihrer Robustheit gegenüber Rauschen charakterisiert werden. Führen Sie hierfür die folgenden Teilschritte durch:\n",
    "- Erzeugen Sie ein Störsignal bestehend aus einem zufälligen [weißen Rauschen](https://de.wikipedia.org/wiki/Wei%C3%9Fes_Rauschen) mit einer Standardabweichung von 0.1 (vgl. [`numpy.random.normal()`](https://numpy.org/doc/stable/reference/random/generated/numpy.random.normal.html)) und überlagern Sie das Messsignal mit diesem Störsignal\n",
    "- Bestimmen Sie aus dem verrauschten Signal die Laufzeit nach den Methoden aus a) und b)\n",
    "- Wiederholen Sie die Bestimmung für mehrere Realisierungen des Rauschens\n",
    "- Variieren Sie das Signal-Rausch-Verhältnis und vergleichen Sie die Ergebnisse der Messungen für die verschiedenen Methoden. \n",
    "- Diskutieren Sie die Ergebnisse. Welche Methoden eignen sich für die Analyse der verrauschten Signale? \n",
    "\n",
    "d) *Zusatzaufgabe:* Definieren Sie eine Kennzahl zur Chrakterisierung des Signal-Rausch Verhältnisses (SNR). Stellen Sie den Einfluss des SNR auf die Genauigkeit der Messung grafisch dar. Bis zu welchem SNR zeigen die jeweiligen Methoden gute Ergebnisse?"
   ]
  }
 ],
 "metadata": {
  "kernelspec": {
   "display_name": "Python 3 (ipykernel)",
   "language": "python",
   "name": "python3"
  },
  "language_info": {
   "codemirror_mode": {
    "name": "ipython",
    "version": 3
   },
   "file_extension": ".py",
   "mimetype": "text/x-python",
   "name": "python",
   "nbconvert_exporter": "python",
   "pygments_lexer": "ipython3",
   "version": "3.9.7"
  }
 },
 "nbformat": 4,
 "nbformat_minor": 5
}
